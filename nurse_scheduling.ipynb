{
 "cells": [
  {
   "cell_type": "code",
   "execution_count": 1,
   "metadata": {},
   "outputs": [
    {
     "data": {
      "text/plain": [
       "Base.CoreLogging.SimpleLogger(IJulia.IJuliaStdio{Base.PipeEndpoint}(IOContext(Base.PipeEndpoint(RawFD(0x0000002f) open, 0 bytes waiting))), Info, Dict{Any,Int64}())"
      ]
     },
     "execution_count": 1,
     "metadata": {},
     "output_type": "execute_result"
    }
   ],
   "source": [
    "include(\"src/NursesScheduling.jl\")\n",
    "using .NurseSchedules\n",
    "using Logging\n",
    "\n",
    "logger = ConsoleLogger(stderr, Logging.Debug)\n",
    "global_logger(logger) "
   ]
  },
  {
   "cell_type": "code",
   "execution_count": 2,
   "metadata": {
    "scrolled": true
   },
   "outputs": [
    {
     "name": "stderr",
     "output_type": "stream",
     "text": [
      "\u001b[36m\u001b[1m[ \u001b[22m\u001b[39m\u001b[36m\u001b[1mInfo: \u001b[22m\u001b[39mSchedule loaded!\n"
     ]
    },
    {
     "data": {
      "text/plain": [
       "Schedule(Dict{String,Any}(\"shifts\" => Dict{String,Any}(\"nurse_2\" => Any[\"W\", \"DN\", \"W\", \"W\", \"W\", \"W\", \"W\"],\"nurse_3\" => Any[\"D\", \"N\", \"W\", \"L4\", \"U\", \"N\", \"U\"],\"nurse_1\" => Any[\"R\", \"R\", \"W\", \"W\", \"D\", \"DN\", \"W\"]),\"schedule_info\" => Dict{String,Any}(\"UUID\" => \"\",\"month_number\" => 8,\"year\" => 2016),\"month_info\" => Dict{String,Any}(\"children_number\" => Any[3, 3, 3, 3, 3, 3, 3],\"days_of_week\" => Any[\"MO\", \"TU\", \"WE\", \"TH\", \"FR\", \"SA\", \"SU\"],\"day_numbers\" => Any[1, 2, 3, 4, 5, 6, 7]),\"employee_info\" => Dict{String,Any}(\"time\" => Dict{String,Any}(\"nurse_2\" => \"FULL\",\"nurse_3\" => \"FULL\",\"nurse_1\" => \"FULL\"))))"
      ]
     },
     "execution_count": 2,
     "metadata": {},
     "output_type": "execute_result"
    }
   ],
   "source": [
    "schedule = Schedule(\"./schedules/schedule_2016_august_medium.json\")"
   ]
  },
  {
   "cell_type": "code",
   "execution_count": 3,
   "metadata": {},
   "outputs": [
    {
     "data": {
      "text/plain": [
       "Dict{String,Any} with 1 entry:\n",
       "  \"time\" => Dict{String,Any}(\"nurse_2\"=>\"FULL\",\"nurse_3\"=>\"FULL\",\"nurse_1\"=>\"FU…"
      ]
     },
     "execution_count": 3,
     "metadata": {},
     "output_type": "execute_result"
    }
   ],
   "source": [
    "workers, shifts = get_shifts(schedule)\n",
    "month_info = get_month_info(schedule)\n",
    "workers_info = get_workers_info(schedule)"
   ]
  },
  {
   "cell_type": "code",
   "execution_count": 4,
   "metadata": {},
   "outputs": [
    {
     "name": "stderr",
     "output_type": "stream",
     "text": [
      "\u001b[34m\u001b[1m┌ \u001b[22m\u001b[39m\u001b[34m\u001b[1mDebug: \u001b[22m\u001b[39mNeighbors number from addition: 60\n",
      "\u001b[34m\u001b[1m└ \u001b[22m\u001b[39m\u001b[90m@ Main.NurseSchedules.Neighborhood ~/Documents/nurse/nurse_scheduling_problem/src/neighborhood.jl:11\u001b[39m\n",
      "\u001b[34m\u001b[1m┌ \u001b[22m\u001b[39m\u001b[34m\u001b[1mDebug: \u001b[22m\u001b[39mNeighbors number from deletion: 8\n",
      "\u001b[34m\u001b[1m└ \u001b[22m\u001b[39m\u001b[90m@ Main.NurseSchedules.Neighborhood ~/Documents/nurse/nurse_scheduling_problem/src/neighborhood.jl:13\u001b[39m\n",
      "\u001b[34m\u001b[1m┌ \u001b[22m\u001b[39m\u001b[34m\u001b[1mDebug: \u001b[22m\u001b[39mNeighbors number from swap: 17\n",
      "\u001b[34m\u001b[1m└ \u001b[22m\u001b[39m\u001b[90m@ Main.NurseSchedules.Neighborhood ~/Documents/nurse/nurse_scheduling_problem/src/neighborhood.jl:26\u001b[39m\n"
     ]
    },
    {
     "data": {
      "text/plain": [
       "85"
      ]
     },
     "execution_count": 4,
     "metadata": {},
     "output_type": "execute_result"
    }
   ],
   "source": [
    "get_max_nbhd_size(schedule)"
   ]
  },
  {
   "cell_type": "code",
   "execution_count": 5,
   "metadata": {},
   "outputs": [
    {
     "data": {
      "text/plain": [
       "85"
      ]
     },
     "execution_count": 5,
     "metadata": {},
     "output_type": "execute_result"
    }
   ],
   "source": [
    "neighborhood = get_nbhd(shifts)\n",
    "length(neighborhood)"
   ]
  },
  {
   "cell_type": "code",
   "execution_count": 6,
   "metadata": {},
   "outputs": [
    {
     "name": "stderr",
     "output_type": "stream",
     "text": [
      "\u001b[34m\u001b[1m┌ \u001b[22m\u001b[39m\u001b[34m\u001b[1mDebug: \u001b[22m\u001b[39mLacking nurses on day '1'.\n",
      "\u001b[34m\u001b[1m│ \u001b[22m\u001b[39mExpected '1', got '0' in the day.\n",
      "\u001b[34m\u001b[1m│ \u001b[22m\u001b[39mExpected '1', got '0' at night.\n",
      "\u001b[34m\u001b[1m└ \u001b[22m\u001b[39m\u001b[90m@ Main.NurseSchedules.ScheduleScore ~/Documents/nurse/nurse_scheduling_problem/src/score.jl:61\u001b[39m\n",
      "\u001b[34m\u001b[1m┌ \u001b[22m\u001b[39m\u001b[34m\u001b[1mDebug: \u001b[22m\u001b[39mLacking nurses on day '3'.\n",
      "\u001b[34m\u001b[1m│ \u001b[22m\u001b[39mExpected '1', got '0' in the day.\n",
      "\u001b[34m\u001b[1m│ \u001b[22m\u001b[39mExpected '1', got '0' at night.\n",
      "\u001b[34m\u001b[1m└ \u001b[22m\u001b[39m\u001b[90m@ Main.NurseSchedules.ScheduleScore ~/Documents/nurse/nurse_scheduling_problem/src/score.jl:61\u001b[39m\n",
      "\u001b[34m\u001b[1m┌ \u001b[22m\u001b[39m\u001b[34m\u001b[1mDebug: \u001b[22m\u001b[39mLacking nurses on day '4'.\n",
      "\u001b[34m\u001b[1m│ \u001b[22m\u001b[39mExpected '1', got '0' in the day.\n",
      "\u001b[34m\u001b[1m│ \u001b[22m\u001b[39mExpected '1', got '0' at night.\n",
      "\u001b[34m\u001b[1m└ \u001b[22m\u001b[39m\u001b[90m@ Main.NurseSchedules.ScheduleScore ~/Documents/nurse/nurse_scheduling_problem/src/score.jl:61\u001b[39m\n",
      "\u001b[34m\u001b[1m┌ \u001b[22m\u001b[39m\u001b[34m\u001b[1mDebug: \u001b[22m\u001b[39mLacking nurses on day '5'.\n",
      "\u001b[34m\u001b[1m│ \u001b[22m\u001b[39mExpected '1', got '0' in the day.\n",
      "\u001b[34m\u001b[1m│ \u001b[22m\u001b[39mExpected '1', got '0' at night.\n",
      "\u001b[34m\u001b[1m└ \u001b[22m\u001b[39m\u001b[90m@ Main.NurseSchedules.ScheduleScore ~/Documents/nurse/nurse_scheduling_problem/src/score.jl:61\u001b[39m\n",
      "\u001b[34m\u001b[1m┌ \u001b[22m\u001b[39m\u001b[34m\u001b[1mDebug: \u001b[22m\u001b[39mLacking nurses on day '7'.\n",
      "\u001b[34m\u001b[1m│ \u001b[22m\u001b[39mExpected '1', got '0' in the day.\n",
      "\u001b[34m\u001b[1m│ \u001b[22m\u001b[39mExpected '1', got '0' at night.\n",
      "\u001b[34m\u001b[1m└ \u001b[22m\u001b[39m\u001b[90m@ Main.NurseSchedules.ScheduleScore ~/Documents/nurse/nurse_scheduling_problem/src/score.jl:61\u001b[39m\n",
      "\u001b[34m\u001b[1m┌ \u001b[22m\u001b[39m\u001b[34m\u001b[1mDebug: \u001b[22m\u001b[39mTotal lack of nurses penalty: 10\n",
      "\u001b[34m\u001b[1m└ \u001b[22m\u001b[39m\u001b[90m@ Main.NurseSchedules.ScheduleScore ~/Documents/nurse/nurse_scheduling_problem/src/score.jl:64\u001b[39m\n",
      "\u001b[34m\u001b[1m┌ \u001b[22m\u001b[39m\u001b[34m\u001b[1mDebug: \u001b[22m\u001b[39mWorker 'nurse_2' does not have a long break in week: '1'\n",
      "\u001b[34m\u001b[1m└ \u001b[22m\u001b[39m\u001b[90m@ Main.NurseSchedules.ScheduleScore ~/Documents/nurse/nurse_scheduling_problem/src/score.jl:102\u001b[39m\n",
      "\u001b[34m\u001b[1m┌ \u001b[22m\u001b[39m\u001b[34m\u001b[1mDebug: \u001b[22m\u001b[39mWorker 'nurse_1' does not have a long break in week: '1'\n",
      "\u001b[34m\u001b[1m└ \u001b[22m\u001b[39m\u001b[90m@ Main.NurseSchedules.ScheduleScore ~/Documents/nurse/nurse_scheduling_problem/src/score.jl:102\u001b[39m\n",
      "\u001b[34m\u001b[1m┌ \u001b[22m\u001b[39m\u001b[34m\u001b[1mDebug: \u001b[22m\u001b[39mHard constraints are not met, charging additional penalty: '131'\n",
      "\u001b[34m\u001b[1m└ \u001b[22m\u001b[39m\u001b[90m@ Main.NurseSchedules.ScheduleScore ~/Documents/nurse/nurse_scheduling_problem/src/score.jl:18\u001b[39m\n",
      "\u001b[34m\u001b[1m┌ \u001b[22m\u001b[39m\u001b[34m\u001b[1mDebug: \u001b[22m\u001b[39mWorker 'nurse_2' has undertime hours: '16' - no penalty for now.\n",
      "\u001b[34m\u001b[1m└ \u001b[22m\u001b[39m\u001b[90m@ Main.NurseSchedules.ScheduleScore ~/Documents/nurse/nurse_scheduling_problem/src/score.jl:130\u001b[39m\n",
      "\u001b[34m\u001b[1m┌ \u001b[22m\u001b[39m\u001b[34m\u001b[1mDebug: \u001b[22m\u001b[39mWorker 'nurse_3' has overtime hours: '20'\n",
      "\u001b[34m\u001b[1m└ \u001b[22m\u001b[39m\u001b[90m@ Main.NurseSchedules.ScheduleScore ~/Documents/nurse/nurse_scheduling_problem/src/score.jl:127\u001b[39m\n",
      "\u001b[34m\u001b[1m┌ \u001b[22m\u001b[39m\u001b[34m\u001b[1mDebug: \u001b[22m\u001b[39mWorker 'nurse_1' has overtime hours: '12'\n",
      "\u001b[34m\u001b[1m└ \u001b[22m\u001b[39m\u001b[90m@ Main.NurseSchedules.ScheduleScore ~/Documents/nurse/nurse_scheduling_problem/src/score.jl:127\u001b[39m\n",
      "\u001b[34m\u001b[1m┌ \u001b[22m\u001b[39m\u001b[34m\u001b[1mDebug: \u001b[22m\u001b[39mOvertime total: 32, std: 6\n",
      "\u001b[34m\u001b[1m└ \u001b[22m\u001b[39m\u001b[90m@ Main.NurseSchedules.ScheduleScore ~/Documents/nurse/nurse_scheduling_problem/src/score.jl:150\u001b[39m\n"
     ]
    },
    {
     "data": {
      "text/plain": [
       "193"
      ]
     },
     "execution_count": 6,
     "metadata": {},
     "output_type": "execute_result"
    }
   ],
   "source": [
    "schedule_score = score(workers, shifts, month_info, workers_info)"
   ]
  },
  {
   "cell_type": "code",
   "execution_count": 15,
   "metadata": {},
   "outputs": [
    {
     "data": {
      "text/plain": [
       "([\"W\" \"DN\" … \"W\" \"W\"; \"D\" \"N\" … \"N\" \"U\"; \"R\" \"R\" … \"DN\" \"W\"], 193)"
      ]
     },
     "execution_count": 15,
     "metadata": {},
     "output_type": "execute_result"
    }
   ],
   "source": [
    "global_logger(NullLogger())\n",
    "ITERATION_NUM = 1000\n",
    "best_shifts = (shifts, schedule_score)"
   ]
  },
  {
   "cell_type": "code",
   "execution_count": 16,
   "metadata": {},
   "outputs": [],
   "source": [
    "iter_best = best_shifts\n",
    "no_improvement_iters = 0\n",
    "\n",
    "for i in 1:ITERATION_NUM\n",
    "    neighborhood = get_nbhd(iter_best[1])\n",
    "    nghd_scores = map(s -> score(workers, s, month_info, workers_info), neighborhood)\n",
    "    iter_best_idx = findfirst(nghd_scores .== minimum(nghd_scores))\n",
    "    new_iter_best = (neighborhood[iter_best_idx], nghd_scores[iter_best_idx])\n",
    "    \n",
    "    if best_shifts[2] > iter_best[2]\n",
    "        println(\"Improved from $(best_shifts[2]) to $(iter_best[2]) in iteration '$(i)'\")\n",
    "        global best_shifts = iter_best\n",
    "    end\n",
    "end"
   ]
  },
  {
   "cell_type": "code",
   "execution_count": 17,
   "metadata": {},
   "outputs": [
    {
     "name": "stderr",
     "output_type": "stream",
     "text": [
      "\u001b[34m\u001b[1m┌ \u001b[22m\u001b[39m\u001b[34m\u001b[1mDebug: \u001b[22m\u001b[39mLacking nurses on day '1'.\n",
      "\u001b[34m\u001b[1m│ \u001b[22m\u001b[39mExpected '1', got '0' in the day.\n",
      "\u001b[34m\u001b[1m│ \u001b[22m\u001b[39mExpected '1', got '0' at night.\n",
      "\u001b[34m\u001b[1m└ \u001b[22m\u001b[39m\u001b[90m@ Main.NurseSchedules.ScheduleScore ~/Documents/nurse/nurse_scheduling_problem/src/score.jl:61\u001b[39m\n",
      "\u001b[34m\u001b[1m┌ \u001b[22m\u001b[39m\u001b[34m\u001b[1mDebug: \u001b[22m\u001b[39mLacking nurses on day '3'.\n",
      "\u001b[34m\u001b[1m│ \u001b[22m\u001b[39mExpected '1', got '0' in the day.\n",
      "\u001b[34m\u001b[1m│ \u001b[22m\u001b[39mExpected '1', got '0' at night.\n",
      "\u001b[34m\u001b[1m└ \u001b[22m\u001b[39m\u001b[90m@ Main.NurseSchedules.ScheduleScore ~/Documents/nurse/nurse_scheduling_problem/src/score.jl:61\u001b[39m\n",
      "\u001b[34m\u001b[1m┌ \u001b[22m\u001b[39m\u001b[34m\u001b[1mDebug: \u001b[22m\u001b[39mLacking nurses on day '4'.\n",
      "\u001b[34m\u001b[1m│ \u001b[22m\u001b[39mExpected '1', got '0' in the day.\n",
      "\u001b[34m\u001b[1m│ \u001b[22m\u001b[39mExpected '1', got '0' at night.\n",
      "\u001b[34m\u001b[1m└ \u001b[22m\u001b[39m\u001b[90m@ Main.NurseSchedules.ScheduleScore ~/Documents/nurse/nurse_scheduling_problem/src/score.jl:61\u001b[39m\n",
      "\u001b[34m\u001b[1m┌ \u001b[22m\u001b[39m\u001b[34m\u001b[1mDebug: \u001b[22m\u001b[39mLacking nurses on day '5'.\n",
      "\u001b[34m\u001b[1m│ \u001b[22m\u001b[39mExpected '1', got '0' in the day.\n",
      "\u001b[34m\u001b[1m│ \u001b[22m\u001b[39mExpected '1', got '0' at night.\n",
      "\u001b[34m\u001b[1m└ \u001b[22m\u001b[39m\u001b[90m@ Main.NurseSchedules.ScheduleScore ~/Documents/nurse/nurse_scheduling_problem/src/score.jl:61\u001b[39m\n",
      "\u001b[34m\u001b[1m┌ \u001b[22m\u001b[39m\u001b[34m\u001b[1mDebug: \u001b[22m\u001b[39mLacking nurses on day '7'.\n",
      "\u001b[34m\u001b[1m│ \u001b[22m\u001b[39mExpected '1', got '0' in the day.\n",
      "\u001b[34m\u001b[1m│ \u001b[22m\u001b[39mExpected '1', got '0' at night.\n",
      "\u001b[34m\u001b[1m└ \u001b[22m\u001b[39m\u001b[90m@ Main.NurseSchedules.ScheduleScore ~/Documents/nurse/nurse_scheduling_problem/src/score.jl:61\u001b[39m\n",
      "\u001b[34m\u001b[1m┌ \u001b[22m\u001b[39m\u001b[34m\u001b[1mDebug: \u001b[22m\u001b[39mTotal lack of nurses penalty: 10\n",
      "\u001b[34m\u001b[1m└ \u001b[22m\u001b[39m\u001b[90m@ Main.NurseSchedules.ScheduleScore ~/Documents/nurse/nurse_scheduling_problem/src/score.jl:64\u001b[39m\n",
      "\u001b[34m\u001b[1m┌ \u001b[22m\u001b[39m\u001b[34m\u001b[1mDebug: \u001b[22m\u001b[39mWorker 'nurse_2' does not have a long break in week: '1'\n",
      "\u001b[34m\u001b[1m└ \u001b[22m\u001b[39m\u001b[90m@ Main.NurseSchedules.ScheduleScore ~/Documents/nurse/nurse_scheduling_problem/src/score.jl:102\u001b[39m\n",
      "\u001b[34m\u001b[1m┌ \u001b[22m\u001b[39m\u001b[34m\u001b[1mDebug: \u001b[22m\u001b[39mWorker 'nurse_1' does not have a long break in week: '1'\n",
      "\u001b[34m\u001b[1m└ \u001b[22m\u001b[39m\u001b[90m@ Main.NurseSchedules.ScheduleScore ~/Documents/nurse/nurse_scheduling_problem/src/score.jl:102\u001b[39m\n",
      "\u001b[34m\u001b[1m┌ \u001b[22m\u001b[39m\u001b[34m\u001b[1mDebug: \u001b[22m\u001b[39mHard constraints are not met, charging additional penalty: '131'\n",
      "\u001b[34m\u001b[1m└ \u001b[22m\u001b[39m\u001b[90m@ Main.NurseSchedules.ScheduleScore ~/Documents/nurse/nurse_scheduling_problem/src/score.jl:18\u001b[39m\n",
      "\u001b[34m\u001b[1m┌ \u001b[22m\u001b[39m\u001b[34m\u001b[1mDebug: \u001b[22m\u001b[39mWorker 'nurse_2' has undertime hours: '16' - no penalty for now.\n",
      "\u001b[34m\u001b[1m└ \u001b[22m\u001b[39m\u001b[90m@ Main.NurseSchedules.ScheduleScore ~/Documents/nurse/nurse_scheduling_problem/src/score.jl:130\u001b[39m\n",
      "\u001b[34m\u001b[1m┌ \u001b[22m\u001b[39m\u001b[34m\u001b[1mDebug: \u001b[22m\u001b[39mWorker 'nurse_3' has overtime hours: '20'\n",
      "\u001b[34m\u001b[1m└ \u001b[22m\u001b[39m\u001b[90m@ Main.NurseSchedules.ScheduleScore ~/Documents/nurse/nurse_scheduling_problem/src/score.jl:127\u001b[39m\n",
      "\u001b[34m\u001b[1m┌ \u001b[22m\u001b[39m\u001b[34m\u001b[1mDebug: \u001b[22m\u001b[39mWorker 'nurse_1' has overtime hours: '12'\n",
      "\u001b[34m\u001b[1m└ \u001b[22m\u001b[39m\u001b[90m@ Main.NurseSchedules.ScheduleScore ~/Documents/nurse/nurse_scheduling_problem/src/score.jl:127\u001b[39m\n",
      "\u001b[34m\u001b[1m┌ \u001b[22m\u001b[39m\u001b[34m\u001b[1mDebug: \u001b[22m\u001b[39mOvertime total: 32, std: 6\n",
      "\u001b[34m\u001b[1m└ \u001b[22m\u001b[39m\u001b[90m@ Main.NurseSchedules.ScheduleScore ~/Documents/nurse/nurse_scheduling_problem/src/score.jl:150\u001b[39m\n"
     ]
    },
    {
     "data": {
      "text/plain": [
       "193"
      ]
     },
     "execution_count": 17,
     "metadata": {},
     "output_type": "execute_result"
    }
   ],
   "source": [
    "global_logger(logger)\n",
    "score(workers, best_shifts[1], month_info, workers_info)"
   ]
  }
 ],
 "metadata": {
  "kernelspec": {
   "display_name": "Julia 1.5.0",
   "language": "julia",
   "name": "julia-1.5"
  },
  "language_info": {
   "file_extension": ".jl",
   "mimetype": "application/julia",
   "name": "julia",
   "version": "1.5.0"
  }
 },
 "nbformat": 4,
 "nbformat_minor": 1
}
