{
 "cells": [
  {
   "cell_type": "code",
   "execution_count": 1,
   "metadata": {},
   "outputs": [],
   "source": [
    "include(\"src/NurseSchedules.jl\")\n",
    "using .NurseSchedules"
   ]
  },
  {
   "cell_type": "code",
   "execution_count": 2,
   "metadata": {
    "scrolled": false
   },
   "outputs": [
    {
     "name": "stdout",
     "output_type": "stream",
     "text": [
      "Schedule loaded!\n"
     ]
    },
    {
     "data": {
      "text/plain": [
       "Schedule(Dict{String,Any}(\"shifts\" => Dict{String,Any}(\"nurse 5\" => Any[\"W\", \"W\", \"W\", \"W\", \"N\", \"W\", \"W\", \"W\", \"W\", \"W\"  …  \"DN\", \"N\", \"R\", \"W\", \"PN\", \"W\", \"W\", \"W\", \"W\", \"W\"],\"nurse 2\" => Any[\"W\", \"D\", \"R\", \"N\", \"W\", \"D\", \"W\", \"N\", \"W\", \"N\"  …  \"W\", \"DN\", \"PN\", \"W\", \"DN\", \"W\", \"W\", \"D\", \"R\", \"N\"],\"nurse 3\" => Any[\"U\", \"U\", \"U\", \"U\", \"W\", \"DN\", \"W\", \"DN\", \"W\", \"DN\"  …  \"W\", \"W\", \"W\", \"D\", \"N\", \"W\", \"U\", \"U\", \"U\", \"U\"],\"nurse 6\" => Any[\"U\", \"U\", \"U\", \"U\", \"U\", \"U\", \"U\", \"U\", \"U\", \"U\"  …  \"W\", \"D\", \"DN\", \"N\", \"W\", \"DN\", \"U\", \"U\", \"U\", \"U\"],\"nurse 7\" => Any[\"N\", \"W\", \"N\", \"W\", \"U\", \"U\", \"U\", \"U\", \"U\", \"U\"  …  \"W\", \"N\", \"W\", \"N\", \"W\", \"N\", \"N\", \"W\", \"N\", \"W\"],\"nurse 9\" => Any[\"U\", \"U\", \"U\", \"U\", \"U\", \"W\", \"DN\", \"W\", \"DN\", \"W\"  …  \"DN\", \"W\", \"DN\", \"N\", \"W\", \"DN\", \"U\", \"U\", \"U\", \"U\"],\"nurse 1\" => Any[\"U\", \"U\", \"U\", \"U\", \"U\", \"D\", \"W\", \"R\", \"R\", \"W\"  …  \"DN\", \"W\", \"DN\", \"W\", \"RP\", \"D\", \"U\", \"U\", \"U\", \"U\"],\"nurse 4\" => Any[\"W\", \"W\", \"D\", \"D\", \"N\", \"W\", \"D\", \"N\", \"W\", \"D\"  …  \"U\", \"U\", \"U\", \"U\", \"W\", \"W\", \"W\", \"W\", \"D\", \"D\"],\"nurse 8\" => Any[\"D\", \"N\", \"N\", \"W\", \"D\", \"W\", \"W\", \"D\", \"N\", \"W\"  …  \"R\", \"W\", \"W\", \"D\", \"W\", \"W\", \"D\", \"N\", \"N\", \"W\"]),\"month_info\" => Dict{String,Any}(\"month_number\" => 8,\"day_number\" => Any[1, 2, 3, 4, 5, 6, 7, 8, 9, 10  …  26, 27, 28, 29, 30, 31, 0, 0, 0, 0],\"year\" => 2016,\"children_number\" => 12,\"days_of_week\" => Any[\"MO\", \"TU\", \"WE\", \"TH\", \"FR\", \"SA\", \"SU\", \"MO\", \"TU\", \"WE\"  …  \"FR\", \"SA\", \"SU\", \"MO\", \"TU\", \"WE\", \"TH\", \"FR\", \"SA\", \"SU\"]),\"employee_info\" => Dict{String,Any}()))"
      ]
     },
     "execution_count": 2,
     "metadata": {},
     "output_type": "execute_result"
    }
   ],
   "source": [
    "schedule = Schedule(\"./schedules/schedule_2016_august.json\")"
   ]
  },
  {
   "cell_type": "code",
   "execution_count": 19,
   "metadata": {},
   "outputs": [
    {
     "ename": "LoadError",
     "evalue": "LoadError: UndefVarError: @unpack not defined\nin expression starting at In[19]:3",
     "output_type": "error",
     "traceback": [
      "LoadError: UndefVarError: @unpack not defined\nin expression starting at In[19]:3",
      "",
      "Stacktrace:",
      " [1] top-level scope",
      " [2] include_string(::Function, ::Module, ::String, ::String) at ./loading.jl:1091"
     ]
    }
   ],
   "source": [
    "x = [1 2; 3 4]\n",
    "for z in CartesianIndices(x)\n",
    "    @unpack (x, y) = z\n",
    "    if z[1] != 1\n",
    "        println(x[z])\n",
    "    end\n",
    "end"
   ]
  },
  {
   "cell_type": "code",
   "execution_count": 6,
   "metadata": {},
   "outputs": [
    {
     "name": "stdout",
     "output_type": "stream",
     "text": [
      "1 \n",
      "2 \n",
      "3 \n",
      "4 \n"
     ]
    }
   ],
   "source": [
    "for x in eachindex(x)\n",
    "    println(x, \" \")\n",
    "end"
   ]
  }
 ],
 "metadata": {
  "kernelspec": {
   "display_name": "Julia 1.5.0",
   "language": "julia",
   "name": "julia-1.5"
  },
  "language_info": {
   "file_extension": ".jl",
   "mimetype": "application/julia",
   "name": "julia",
   "version": "1.5.0"
  }
 },
 "nbformat": 4,
 "nbformat_minor": 1
}
