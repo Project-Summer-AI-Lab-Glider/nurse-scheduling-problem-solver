{
 "cells": [
  {
   "cell_type": "code",
   "execution_count": 1,
   "metadata": {},
   "outputs": [
    {
     "data": {
      "text/plain": [
       "Base.CoreLogging.SimpleLogger(IJulia.IJuliaStdio{Base.PipeEndpoint}(IOContext(Base.PipeEndpoint(RawFD(0x0000002e) open, 0 bytes waiting))), Info, Dict{Any,Int64}())"
      ]
     },
     "execution_count": 1,
     "metadata": {},
     "output_type": "execute_result"
    }
   ],
   "source": [
    "include(\"src/NurseSchedules.jl\")\n",
    "using .NurseSchedules\n",
    "using Logging\n",
    "\n",
    "global_logger(ConsoleLogger(stderr, Logging.Debug)) "
   ]
  },
  {
   "cell_type": "code",
   "execution_count": 2,
   "metadata": {
    "scrolled": false
   },
   "outputs": [
    {
     "name": "stdout",
     "output_type": "stream",
     "text": [
      "Schedule loaded!\n"
     ]
    },
    {
     "data": {
      "text/plain": [
       "Schedule(Dict{String,Any}(\"shifts\" => Dict{String,Any}(\"nurse_9\" => Any[\"U\", \"U\", \"U\", \"U\", \"U\", \"W\", \"DN\", \"W\", \"DN\", \"W\"  …  \"DN\", \"W\", \"DN\", \"N\", \"W\", \"DN\", \"U\", \"U\", \"U\", \"U\"],\"nurse_2\" => Any[\"W\", \"D\", \"R\", \"N\", \"W\", \"D\", \"W\", \"N\", \"W\", \"N\"  …  \"W\", \"DN\", \"PN\", \"W\", \"DN\", \"W\", \"W\", \"D\", \"R\", \"N\"],\"nurse_3\" => Any[\"U\", \"U\", \"U\", \"U\", \"W\", \"DN\", \"W\", \"DN\", \"W\", \"DN\"  …  \"W\", \"W\", \"W\", \"D\", \"N\", \"W\", \"U\", \"U\", \"U\", \"U\"],\"nurse_6\" => Any[\"U\", \"U\", \"U\", \"U\", \"U\", \"U\", \"U\", \"U\", \"U\", \"U\"  …  \"W\", \"D\", \"DN\", \"N\", \"W\", \"DN\", \"U\", \"U\", \"U\", \"U\"],\"nurse_8\" => Any[\"D\", \"N\", \"N\", \"W\", \"D\", \"W\", \"W\", \"D\", \"N\", \"W\"  …  \"R\", \"W\", \"W\", \"D\", \"W\", \"W\", \"D\", \"N\", \"N\", \"W\"],\"nurse_4\" => Any[\"W\", \"W\", \"D\", \"D\", \"N\", \"W\", \"D\", \"N\", \"W\", \"D\"  …  \"U\", \"U\", \"U\", \"U\", \"W\", \"W\", \"W\", \"W\", \"D\", \"D\"],\"nurse_5\" => Any[\"W\", \"W\", \"W\", \"W\", \"N\", \"W\", \"W\", \"W\", \"W\", \"W\"  …  \"DN\", \"N\", \"R\", \"W\", \"PN\", \"W\", \"W\", \"W\", \"W\", \"W\"],\"nurse_7\" => Any[\"N\", \"W\", \"N\", \"W\", \"U\", \"U\", \"U\", \"U\", \"U\", \"U\"  …  \"W\", \"N\", \"W\", \"N\", \"W\", \"N\", \"N\", \"W\", \"N\", \"W\"],\"nurse_1\" => Any[\"U\", \"U\", \"U\", \"U\", \"U\", \"D\", \"W\", \"R\", \"R\", \"W\"  …  \"DN\", \"W\", \"DN\", \"W\", \"RP\", \"D\", \"U\", \"U\", \"U\", \"U\"]),\"schedule_info\" => Dict{String,Any}(\"UUID\" => \"\",\"month_number\" => 8,\"year\" => 2016),\"month_info\" => Dict{String,Any}(\"children_number\" => Any[12, 12, 12, 12, 12, 12, 12, 12, 12, 12  …  12, 12, 12, 12, 12, 12, 12, 12, 12, 12],\"days_of_week\" => Any[\"MO\", \"TU\", \"WE\", \"TH\", \"FR\", \"SA\", \"SU\", \"MO\", \"TU\", \"WE\"  …  \"FR\", \"SA\", \"SU\", \"MO\", \"TU\", \"WE\", \"TH\", \"FR\", \"SA\", \"SU\"],\"day_numbers\" => Any[1, 2, 3, 4, 5, 6, 7, 8, 9, 10  …  26, 27, 28, 29, 30, 31, 0, 0, 0, 0]),\"employee_info\" => Dict{String,Any}(\"time\" => Dict{String,Any}(\"nurse_9\" => \"FULL\",\"nurse_2\" => \"FULL\",\"nurse_3\" => \"FULL\",\"nurse_6\" => \"FULL\",\"nurse_8\" => \"FULL\",\"nurse_4\" => \"FULL\",\"nurse_5\" => \"FULL\",\"nurse_7\" => \"FULL\",\"nurse_1\" => \"FULL\"))))"
      ]
     },
     "execution_count": 2,
     "metadata": {},
     "output_type": "execute_result"
    }
   ],
   "source": [
    "schedule = Schedule(\"./schedules/schedule_2016_august.json\")"
   ]
  },
  {
   "cell_type": "code",
   "execution_count": 3,
   "metadata": {},
   "outputs": [
    {
     "data": {
      "text/plain": [
       "42"
      ]
     },
     "execution_count": 3,
     "metadata": {},
     "output_type": "execute_result"
    }
   ],
   "source": [
    "score(schedule)"
   ]
  },
  {
   "cell_type": "code",
   "execution_count": 5,
   "metadata": {},
   "outputs": [
    {
     "data": {
      "text/plain": [
       "9×35 Array{String,2}:\n",
       " \"U\"  \"U\"  \"U\"  \"U\"  \"U\"  \"W\"   \"DN\"  …  \"N\"  \"W\"   \"DN\"  \"U\"  \"U\"  \"U\"  \"U\"\n",
       " \"W\"  \"D\"  \"R\"  \"N\"  \"W\"  \"D\"   \"W\"      \"W\"  \"DN\"  \"W\"   \"W\"  \"D\"  \"R\"  \"N\"\n",
       " \"U\"  \"U\"  \"U\"  \"U\"  \"W\"  \"DN\"  \"W\"      \"D\"  \"N\"   \"W\"   \"U\"  \"U\"  \"U\"  \"U\"\n",
       " \"U\"  \"U\"  \"U\"  \"U\"  \"U\"  \"U\"   \"U\"      \"N\"  \"W\"   \"DN\"  \"U\"  \"U\"  \"U\"  \"U\"\n",
       " \"D\"  \"N\"  \"N\"  \"W\"  \"D\"  \"W\"   \"W\"      \"D\"  \"W\"   \"W\"   \"D\"  \"N\"  \"N\"  \"W\"\n",
       " \"W\"  \"W\"  \"D\"  \"D\"  \"N\"  \"W\"   \"D\"   …  \"U\"  \"W\"   \"W\"   \"W\"  \"W\"  \"D\"  \"D\"\n",
       " \"W\"  \"W\"  \"W\"  \"W\"  \"N\"  \"W\"   \"W\"      \"W\"  \"PN\"  \"W\"   \"W\"  \"W\"  \"W\"  \"W\"\n",
       " \"N\"  \"W\"  \"N\"  \"W\"  \"U\"  \"U\"   \"U\"      \"N\"  \"W\"   \"N\"   \"N\"  \"W\"  \"N\"  \"W\"\n",
       " \"U\"  \"U\"  \"U\"  \"U\"  \"U\"  \"D\"   \"W\"      \"W\"  \"RP\"  \"D\"   \"U\"  \"U\"  \"U\"  \"U\""
      ]
     },
     "execution_count": 5,
     "metadata": {},
     "output_type": "execute_result"
    }
   ],
   "source": [
    "get_shifts(schedule)"
   ]
  },
  {
   "cell_type": "code",
   "execution_count": 6,
   "metadata": {},
   "outputs": [
    {
     "data": {
      "text/plain": [
       "5004"
      ]
     },
     "execution_count": 6,
     "metadata": {},
     "output_type": "execute_result"
    }
   ],
   "source": [
    "length(get_nbhd(schedule))"
   ]
  },
  {
   "cell_type": "code",
   "execution_count": 7,
   "metadata": {
    "scrolled": false
   },
   "outputs": [
    {
     "name": "stderr",
     "output_type": "stream",
     "text": [
      "\u001b[34m\u001b[1m┌ \u001b[22m\u001b[39m\u001b[34m\u001b[1mDebug: \u001b[22m\u001b[39mNeigbors from addition: 640\n",
      "\u001b[34m\u001b[1m└ \u001b[22m\u001b[39m\u001b[90m@ Main.NurseSchedules.Neighborhood ~/Documents/nurse/nurse_scheduling_problem/src/schedule/neighborhood.jl:11\u001b[39m\n",
      "\u001b[34m\u001b[1m┌ \u001b[22m\u001b[39m\u001b[34m\u001b[1mDebug: \u001b[22m\u001b[39mNeigbors from deletion: 116\n",
      "\u001b[34m\u001b[1m└ \u001b[22m\u001b[39m\u001b[90m@ Main.NurseSchedules.Neighborhood ~/Documents/nurse/nurse_scheduling_problem/src/schedule/neighborhood.jl:13\u001b[39m\n",
      "\u001b[34m\u001b[1m┌ \u001b[22m\u001b[39m\u001b[34m\u001b[1mDebug: \u001b[22m\u001b[39mNeigbors from swap: 4248\n",
      "\u001b[34m\u001b[1m└ \u001b[22m\u001b[39m\u001b[90m@ Main.NurseSchedules.Neighborhood ~/Documents/nurse/nurse_scheduling_problem/src/schedule/neighborhood.jl:26\u001b[39m\n"
     ]
    },
    {
     "data": {
      "text/plain": [
       "5004"
      ]
     },
     "execution_count": 7,
     "metadata": {},
     "output_type": "execute_result"
    }
   ],
   "source": [
    "get_max_nbhd_size(schedule)"
   ]
  }
 ],
 "metadata": {
  "kernelspec": {
   "display_name": "Julia 1.5.0",
   "language": "julia",
   "name": "julia-1.5"
  },
  "language_info": {
   "file_extension": ".jl",
   "mimetype": "application/julia",
   "name": "julia",
   "version": "1.5.0"
  }
 },
 "nbformat": 4,
 "nbformat_minor": 1
}
