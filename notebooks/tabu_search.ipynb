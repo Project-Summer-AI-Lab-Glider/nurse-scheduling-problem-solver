{
 "cells": [
  {
   "cell_type": "code",
   "execution_count": 1,
   "metadata": {},
   "outputs": [
    {
     "data": {
      "text/plain": [
       "\"\""
      ]
     },
     "execution_count": 1,
     "metadata": {},
     "output_type": "execute_result"
    }
   ],
   "source": [
    "include(\"../src/NursesScheduling.jl\")\n",
    "using .NurseSchedules\n",
    "using Logging\n",
    "using JSON\n",
    "\n",
    "import Base.in\n",
    "\"\""
   ]
  },
  {
   "cell_type": "code",
   "execution_count": 2,
   "metadata": {},
   "outputs": [
    {
     "data": {
      "text/plain": [
       "\"../schedules/schedule_2016_august_medium.json\""
      ]
     },
     "execution_count": 2,
     "metadata": {},
     "output_type": "execute_result"
    }
   ],
   "source": [
    "Shifts = Array{String,2}\n",
    "BestResult = @NamedTuple{shifts::Shifts, score::Int}\n",
    "\n",
    "ITERATION_NUMBER = 50\n",
    "TABU_MAX_SIZE = 10\n",
    "SCHEDULE_PATH = \"../schedules/schedule_2016_august_medium.json\""
   ]
  },
  {
   "cell_type": "code",
   "execution_count": 3,
   "metadata": {},
   "outputs": [
    {
     "data": {
      "text/plain": [
       "in (generic function with 35 methods)"
      ]
     },
     "execution_count": 3,
     "metadata": {},
     "output_type": "execute_result"
    }
   ],
   "source": [
    "function in(shifts::Shifts, tabu_list::Vector{BestResult})\n",
    "    findfirst(record -> record.shifts == shifts, tabu_list) != nothing\n",
    "end"
   ]
  },
  {
   "cell_type": "code",
   "execution_count": 4,
   "metadata": {},
   "outputs": [
    {
     "data": {
      "text/plain": [
       "\"Max neighborhood: 417\""
      ]
     },
     "execution_count": 4,
     "metadata": {},
     "output_type": "execute_result"
    }
   ],
   "source": [
    "nurse_schedule = Schedule(SCHEDULE_PATH)\n",
    "\n",
    "schedule_shifts = get_shifts(nurse_schedule)\n",
    "workers, shifts = schedule_shifts\n",
    "month_info = get_month_info(nurse_schedule)\n",
    "workers_info = get_workers_info(nurse_schedule)\n",
    "\n",
    "\"Max neighborhood: $(get_max_nbhd_size(nurse_schedule))\""
   ]
  },
  {
   "cell_type": "code",
   "execution_count": 5,
   "metadata": {},
   "outputs": [
    {
     "data": {
      "text/plain": [
       "\"Initial score: 216\""
      ]
     },
     "execution_count": 5,
     "metadata": {},
     "output_type": "execute_result"
    }
   ],
   "source": [
    "penalty = score(schedule_shifts, month_info, workers_info)\n",
    "best_res = BestResult((shifts = shifts, score = penalty))\n",
    "best_iter_res = best_res\n",
    "tabu_list = Vector{BestResult}()\n",
    "push!(tabu_list, best_res)\n",
    "\n",
    "\"Initial score: $(best_res.score)\""
   ]
  },
  {
   "cell_type": "code",
   "execution_count": 6,
   "metadata": {
    "scrolled": false
   },
   "outputs": [
    {
     "name": "stdout",
     "output_type": "stream",
     "text": [
      "Penalty reduced in iter '1': '216' -> '184'\n",
      "Penalty reduced in iter '1': '184' -> '174'\n",
      "Penalty reduced in iter '1': '174' -> '170'\n",
      "Penalty reduced in iter '1': '170' -> '166'\n",
      "Penalty reduced in iter '2': '166' -> '156'\n",
      "Penalty reduced in iter '2': '156' -> '146'\n",
      "Penalty reduced in iter '2': '146' -> '124'\n",
      "Penalty reduced in iter '3': '124' -> '120'\n",
      "Penalty reduced in iter '3': '120' -> '114'\n",
      "Penalty reduced in iter '3': '114' -> '94'\n",
      "Penalty reduced in iter '4': '94' -> '74'\n",
      "Penalty reduced in iter '5': '74' -> '54'\n",
      "Penalty reduced in iter '6': '54' -> '34'\n",
      "Penalty reduced in iter '7': '34' -> '30'\n",
      "Penalty reduced in iter '7': '30' -> '20'\n",
      "Penalty reduced in iter '7': '20' -> '14'\n",
      "Penalty reduced in iter '8': '14' -> '0'\n"
     ]
    }
   ],
   "source": [
    "for i in 1:ITERATION_NUMBER\n",
    "    nbhd = Neighborhood(best_iter_res.shifts)\n",
    "    for nbr_shifts in nbhd\n",
    "        candidate_score = score((workers, nbr_shifts), month_info, workers_info)\n",
    "        if best_iter_res.score > candidate_score && !(nbr_shifts in tabu_list)\n",
    "            global best_iter_res = BestResult((nbr_shifts, candidate_score))\n",
    "        end\n",
    "        if best_res.score > best_iter_res.score\n",
    "            println(\"Penalty reduced in iter '$(i)': '$(best_res.score)' -> '$(best_iter_res.score)'\")\n",
    "            global best_res = best_iter_res\n",
    "            best_res.score == 0 && break\n",
    "        end\n",
    "        push!(tabu_list, best_iter_res)\n",
    "        if length(tabu_list) > TABU_MAX_SIZE\n",
    "            popfirst!(tabu_list)\n",
    "        end\n",
    "    end\n",
    "    best_res.score == 0 && break\n",
    "end"
   ]
  },
  {
   "cell_type": "code",
   "execution_count": 7,
   "metadata": {
    "scrolled": false
   },
   "outputs": [
    {
     "name": "stdout",
     "output_type": "stream",
     "text": [
      "[]\n"
     ]
    },
    {
     "data": {
      "text/plain": [
       "\"Score improved: '216' -> '0'\""
      ]
     },
     "execution_count": 7,
     "metadata": {},
     "output_type": "execute_result"
    }
   ],
   "source": [
    "penalty_improved, errors = score((workers, best_res.shifts), month_info, workers_info, true)\n",
    "JSON.print(errors, 4)\n",
    "\"Score improved: '$(penalty)' -> '$(penalty_improved)'\""
   ]
  }
 ],
 "metadata": {
  "kernelspec": {
   "display_name": "Julia 1.5.0",
   "language": "julia",
   "name": "julia-1.5"
  },
  "language_info": {
   "file_extension": ".jl",
   "mimetype": "application/julia",
   "name": "julia",
   "version": "1.5.0"
  }
 },
 "nbformat": 4,
 "nbformat_minor": 4
}
