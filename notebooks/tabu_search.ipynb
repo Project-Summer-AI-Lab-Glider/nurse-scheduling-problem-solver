{
 "cells": [
  {
   "cell_type": "code",
   "execution_count": 1,
   "metadata": {},
   "outputs": [
    {
     "data": {
      "text/plain": [
       "ConsoleLogger(IJulia.IJuliaStdio{Base.PipeEndpoint}(IOContext(Base.PipeEndpoint(RawFD(0x0000002f) open, 0 bytes waiting))), Debug, Logging.default_metafmt, true, 0, Dict{Any,Int64}())"
      ]
     },
     "execution_count": 1,
     "metadata": {},
     "output_type": "execute_result"
    }
   ],
   "source": [
    "include(\"../src/NursesScheduling.jl\")\n",
    "using .NurseSchedules\n",
    "using Logging\n",
    "\n",
    "logger = ConsoleLogger(stderr, Logging.Debug)"
   ]
  },
  {
   "cell_type": "code",
   "execution_count": 3,
   "metadata": {},
   "outputs": [
    {
     "name": "stderr",
     "output_type": "stream",
     "text": [
      "┌ Info: Schedule loaded!\n",
      "└ @ Main.NurseSchedules /home/prenc/Documents/nurse/nurse_scheduling_problem/src/Schedule.jl:10\n"
     ]
    },
    {
     "data": {
      "text/plain": [
       "Dict{String,Any} with 2 entries:\n",
       "  \"time\" => Dict{String,Any}(\"nurse_2\"=>\"FULL\",\"babysitter_1\"=>\"FULL\",\"babysitt…\n",
       "  \"type\" => Dict{String,Any}(\"nurse_2\"=>\"NURSE\",\"babysitter_1\"=>\"OTHER\",\"babysi…"
      ]
     },
     "execution_count": 3,
     "metadata": {},
     "output_type": "execute_result"
    }
   ],
   "source": [
    "nurse_schedule = Schedule(\"../schedules/schedule_2016_august_medium.json\")\n",
    "schedule_shifts = get_shifts(nurse_schedule)\n",
    "workers, shifts = schedule_shifts\n",
    "month_info = get_month_info(nurse_schedule)\n",
    "workers_info = get_workers_info(nurse_schedule)"
   ]
  },
  {
   "cell_type": "code",
   "execution_count": null,
   "metadata": {},
   "outputs": [],
   "source": []
  }
 ],
 "metadata": {
  "kernelspec": {
   "display_name": "Julia 1.5.0",
   "language": "julia",
   "name": "julia-1.5"
  },
  "language_info": {
   "file_extension": ".jl",
   "mimetype": "application/julia",
   "name": "julia",
   "version": "1.5.0"
  }
 },
 "nbformat": 4,
 "nbformat_minor": 4
}
