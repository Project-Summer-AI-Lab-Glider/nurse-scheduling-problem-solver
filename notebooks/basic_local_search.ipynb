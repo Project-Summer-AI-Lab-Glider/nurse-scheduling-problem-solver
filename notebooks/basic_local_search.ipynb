{
 "cells": [
  {
   "cell_type": "code",
   "execution_count": 1,
   "metadata": {},
   "outputs": [
    {
     "data": {
      "text/plain": [
       "ConsoleLogger(IJulia.IJuliaStdio{Base.PipeEndpoint}(IOContext(Base.PipeEndpoint(RawFD(0x00000030) open, 0 bytes waiting))), Debug, Logging.default_metafmt, true, 0, Dict{Any,Int64}())"
      ]
     },
     "execution_count": 1,
     "metadata": {},
     "output_type": "execute_result"
    }
   ],
   "source": [
    "include(\"../src/NursesScheduling.jl\")\n",
    "using .NurseSchedules\n",
    "using Logging\n",
    "\n",
    "logger = ConsoleLogger(stderr, Logging.Debug)"
   ]
  },
  {
   "cell_type": "code",
   "execution_count": 2,
   "metadata": {
    "scrolled": true
   },
   "outputs": [
    {
     "name": "stderr",
     "output_type": "stream",
     "text": [
      "┌ Info: Schedule loaded!\n",
      "└ @ Main.NurseSchedules /home/prenc/Documents/nurse/nurse_scheduling_problem/src/Schedule.jl:10\n"
     ]
    },
    {
     "data": {
      "text/plain": [
       "Schedule(Dict{String,Any}(\"shifts\" => Dict{String,Any}(\"nurse_2\" => Any[\"N\", \"W\", \"N\", \"W\", \"W\", \"W\", \"DN\"],\"babysitter_1\" => Any[\"U\", \"U\", \"U\", \"U\", \"U\", \"U\", \"U\"],\"babysitter_7\" => Any[\"W\", \"D\", \"D\", \"W\", \"D\", \"DN\", \"W\"],\"nurse_5\" => Any[\"W\", \"W\", \"W\", \"W\", \"W\", \"W\", \"W\"],\"babysitter_8\" => Any[\"L4\", \"L4\", \"L4\", \"L4\", \"L4\", \"L4\", \"L4\"],\"babysitter_9\" => Any[\"N\", \"W\", \"D\", \"N\", \"P\", \"W\", \"W\"],\"nurse_1\" => Any[\"R\", \"R\", \"W\", \"W\", \"D\", \"DN\", \"W\"],\"babysitter_10\" => Any[\"W\", \"D\", \"W\", \"D\", \"W\", \"D\", \"W\"],\"nurse_6\" => Any[\"U\", \"U\", \"U\", \"U\", \"U\", \"U\", \"U\"],\"babysitter_5\" => Any[\"D\", \"P\", \"N\", \"N\", \"W\", \"W\", \"W\"]…),\"schedule_info\" => Dict{String,Any}(\"UUID\" => \"\",\"month_number\" => 8,\"year\" => 2016),\"month_info\" => Dict{String,Any}(\"children_number\" => Any[12, 12, 12, 12, 12, 12, 11],\"days_of_week\" => Any[\"MO\", \"TU\", \"WE\", \"TH\", \"FR\", \"SA\", \"SU\"],\"day_numbers\" => Any[8, 9, 10, 11, 12, 13, 14]),\"employee_info\" => Dict{String,Any}(\"time\" => Dict{String,Any}(\"nurse_2\" => \"FULL\",\"babysitter_1\" => \"FULL\",\"babysitter_7\" => \"HALF\",\"nurse_5\" => \"HALF\",\"babysitter_8\" => \"FULL\",\"babysitter_9\" => \"FULL\",\"nurse_1\" => \"FULL\",\"babysitter_10\" => \"HALF\",\"nurse_6\" => \"HALF\",\"babysitter_5\" => \"FULL\"…),\"type\" => Dict{String,Any}(\"nurse_2\" => \"NURSE\",\"babysitter_1\" => \"OTHER\",\"babysitter_7\" => \"OTHER\",\"nurse_5\" => \"NURSE\",\"babysitter_8\" => \"OTHER\",\"babysitter_9\" => \"OTHER\",\"nurse_1\" => \"NURSE\",\"babysitter_10\" => \"OTHER\",\"nurse_6\" => \"NURSE\",\"babysitter_5\" => \"OTHER\"…))))"
      ]
     },
     "execution_count": 2,
     "metadata": {},
     "output_type": "execute_result"
    }
   ],
   "source": [
    "nurse_schedule = Schedule(\"schedules/schedule_2016_august_medium.json\")"
   ]
  },
  {
   "cell_type": "code",
   "execution_count": 3,
   "metadata": {},
   "outputs": [
    {
     "data": {
      "text/plain": [
       "Dict{String,Any} with 2 entries:\n",
       "  \"time\" => Dict{String,Any}(\"nurse_2\"=>\"FULL\",\"babysitter_1\"=>\"FULL\",\"babysitt…\n",
       "  \"type\" => Dict{String,Any}(\"nurse_2\"=>\"NURSE\",\"babysitter_1\"=>\"OTHER\",\"babysi…"
      ]
     },
     "execution_count": 3,
     "metadata": {},
     "output_type": "execute_result"
    }
   ],
   "source": [
    "schedule_shifts = get_shifts(nurse_schedule)\n",
    "workers, shifts = schedule_shifts\n",
    "month_info = get_month_info(nurse_schedule)\n",
    "workers_info = get_workers_info(nurse_schedule)"
   ]
  },
  {
   "cell_type": "code",
   "execution_count": 4,
   "metadata": {},
   "outputs": [
    {
     "name": "stderr",
     "output_type": "stream",
     "text": [
      "\u001b[34m\u001b[1m┌ \u001b[22m\u001b[39m\u001b[34m\u001b[1mDebug: \u001b[22m\u001b[39mNeighbors number from addition: 252\n",
      "\u001b[34m\u001b[1m└ \u001b[22m\u001b[39m\u001b[90m@ Main.NurseSchedules.NeighborhoodGen ~/Documents/nurse/nurse_scheduling_problem/src/neighborhood.jl:15\u001b[39m\n",
      "\u001b[34m\u001b[1m┌ \u001b[22m\u001b[39m\u001b[34m\u001b[1mDebug: \u001b[22m\u001b[39mNeighbors number from deletion: 49\n",
      "\u001b[34m\u001b[1m└ \u001b[22m\u001b[39m\u001b[90m@ Main.NurseSchedules.NeighborhoodGen ~/Documents/nurse/nurse_scheduling_problem/src/neighborhood.jl:17\u001b[39m\n",
      "\u001b[34m\u001b[1m┌ \u001b[22m\u001b[39m\u001b[34m\u001b[1mDebug: \u001b[22m\u001b[39mNeighbors number from swap: 116\n",
      "\u001b[34m\u001b[1m└ \u001b[22m\u001b[39m\u001b[90m@ Main.NurseSchedules.NeighborhoodGen ~/Documents/nurse/nurse_scheduling_problem/src/neighborhood.jl:29\u001b[39m\n"
     ]
    },
    {
     "data": {
      "text/plain": [
       "417"
      ]
     },
     "execution_count": 4,
     "metadata": {},
     "output_type": "execute_result"
    }
   ],
   "source": [
    "with_logger(logger) do\n",
    "    get_max_nbhd_size(nurse_schedule)\n",
    "end"
   ]
  },
  {
   "cell_type": "code",
   "execution_count": 5,
   "metadata": {},
   "outputs": [
    {
     "data": {
      "text/plain": [
       "417"
      ]
     },
     "execution_count": 5,
     "metadata": {},
     "output_type": "execute_result"
    }
   ],
   "source": [
    "nbhd = Neighborhood(shifts)\n",
    "length(nbhd)"
   ]
  },
  {
   "cell_type": "code",
   "execution_count": 6,
   "metadata": {},
   "outputs": [
    {
     "name": "stderr",
     "output_type": "stream",
     "text": [
      "\u001b[34m\u001b[1m┌ \u001b[22m\u001b[39m\u001b[34m\u001b[1mDebug: \u001b[22m\u001b[39mThere is a lack of staff on day '7'.\n",
      "\u001b[34m\u001b[1m│ \u001b[22m\u001b[39mExpected '4', got '3' in the day.\n",
      "\u001b[34m\u001b[1m└ \u001b[22m\u001b[39m\u001b[90m@ Main.NurseSchedules.ScheduleScoring ~/Documents/nurse/nurse_scheduling_problem/src/scoring.jl:127\u001b[39m\n",
      "\u001b[34m\u001b[1m┌ \u001b[22m\u001b[39m\u001b[34m\u001b[1mDebug: \u001b[22m\u001b[39mLacking workers total penalty: 30\n",
      "\u001b[34m\u001b[1m└ \u001b[22m\u001b[39m\u001b[90m@ Main.NurseSchedules.ScheduleScoring ~/Documents/nurse/nurse_scheduling_problem/src/scoring.jl:68\u001b[39m\n",
      "\u001b[34m\u001b[1m┌ \u001b[22m\u001b[39m\u001b[34m\u001b[1mDebug: \u001b[22m\u001b[39mThe worker 'babysitter_7' does not have a long break in week: '1'\n",
      "\u001b[34m\u001b[1m└ \u001b[22m\u001b[39m\u001b[90m@ Main.NurseSchedules.ScheduleScoring ~/Documents/nurse/nurse_scheduling_problem/src/scoring.jl:215\u001b[39m\n",
      "\u001b[34m\u001b[1m┌ \u001b[22m\u001b[39m\u001b[34m\u001b[1mDebug: \u001b[22m\u001b[39mThe worker 'babysitter_9' has a disallowed shift sequence on day '5': N -> P\n",
      "\u001b[34m\u001b[1m└ \u001b[22m\u001b[39m\u001b[90m@ Main.NurseSchedules.ScheduleScoring ~/Documents/nurse/nurse_scheduling_problem/src/scoring.jl:188\u001b[39m\n",
      "\u001b[34m\u001b[1m┌ \u001b[22m\u001b[39m\u001b[34m\u001b[1mDebug: \u001b[22m\u001b[39mThe worker 'babysitter_10' does not have a long break in week: '1'\n",
      "\u001b[34m\u001b[1m└ \u001b[22m\u001b[39m\u001b[90m@ Main.NurseSchedules.ScheduleScoring ~/Documents/nurse/nurse_scheduling_problem/src/scoring.jl:215\u001b[39m\n",
      "\u001b[34m\u001b[1m┌ \u001b[22m\u001b[39m\u001b[34m\u001b[1mDebug: \u001b[22m\u001b[39mThe worker 'nurse_8' does not have a long break in week: '1'\n",
      "\u001b[34m\u001b[1m└ \u001b[22m\u001b[39m\u001b[90m@ Main.NurseSchedules.ScheduleScoring ~/Documents/nurse/nurse_scheduling_problem/src/scoring.jl:215\u001b[39m\n",
      "\u001b[34m\u001b[1m┌ \u001b[22m\u001b[39m\u001b[34m\u001b[1mDebug: \u001b[22m\u001b[39mThe worker 'nurse_4' does not have a long break in week: '1'\n",
      "\u001b[34m\u001b[1m└ \u001b[22m\u001b[39m\u001b[90m@ Main.NurseSchedules.ScheduleScoring ~/Documents/nurse/nurse_scheduling_problem/src/scoring.jl:215\u001b[39m\n",
      "\u001b[34m\u001b[1m┌ \u001b[22m\u001b[39m\u001b[34m\u001b[1mDebug: \u001b[22m\u001b[39mThe worker 'nurse_3' has a disallowed shift sequence on day '4': DN -> N\n",
      "\u001b[34m\u001b[1m└ \u001b[22m\u001b[39m\u001b[90m@ Main.NurseSchedules.ScheduleScoring ~/Documents/nurse/nurse_scheduling_problem/src/scoring.jl:188\u001b[39m\n",
      "\u001b[34m\u001b[1m┌ \u001b[22m\u001b[39m\u001b[34m\u001b[1mDebug: \u001b[22m\u001b[39mThe worker 'nurse_3' has a disallowed shift sequence on day '7': DN -> N\n",
      "\u001b[34m\u001b[1m└ \u001b[22m\u001b[39m\u001b[90m@ Main.NurseSchedules.ScheduleScoring ~/Documents/nurse/nurse_scheduling_problem/src/scoring.jl:188\u001b[39m\n",
      "\u001b[34m\u001b[1m┌ \u001b[22m\u001b[39m\u001b[34m\u001b[1mDebug: \u001b[22m\u001b[39mThe worker 'nurse_3' does not have a long break in week: '1'\n",
      "\u001b[34m\u001b[1m└ \u001b[22m\u001b[39m\u001b[90m@ Main.NurseSchedules.ScheduleScoring ~/Documents/nurse/nurse_scheduling_problem/src/scoring.jl:215\u001b[39m\n",
      "\u001b[34m\u001b[1m┌ \u001b[22m\u001b[39m\u001b[34m\u001b[1mDebug: \u001b[22m\u001b[39mThe worker 'babysitter_4' does not have a long break in week: '1'\n",
      "\u001b[34m\u001b[1m└ \u001b[22m\u001b[39m\u001b[90m@ Main.NurseSchedules.ScheduleScoring ~/Documents/nurse/nurse_scheduling_problem/src/scoring.jl:215\u001b[39m\n",
      "\u001b[34m\u001b[1m┌ \u001b[22m\u001b[39m\u001b[34m\u001b[1mDebug: \u001b[22m\u001b[39mThe worker 'nurse_5' has too much undertime: '20'\n",
      "\u001b[34m\u001b[1m└ \u001b[22m\u001b[39m\u001b[90m@ Main.NurseSchedules.ScheduleScoring ~/Documents/nurse/nurse_scheduling_problem/src/scoring.jl:261\u001b[39m\n",
      "\u001b[34m\u001b[1m┌ \u001b[22m\u001b[39m\u001b[34m\u001b[1mDebug: \u001b[22m\u001b[39mThe worker 'nurse_3' has too much overtime: '56'\n",
      "\u001b[34m\u001b[1m└ \u001b[22m\u001b[39m\u001b[90m@ Main.NurseSchedules.ScheduleScoring ~/Documents/nurse/nurse_scheduling_problem/src/scoring.jl:249\u001b[39m\n",
      "\u001b[34m\u001b[1m┌ \u001b[22m\u001b[39m\u001b[34m\u001b[1mDebug: \u001b[22m\u001b[39mTotal penalty from undertime and overtime: 36\n",
      "\u001b[34m\u001b[1m└ \u001b[22m\u001b[39m\u001b[90m@ Main.NurseSchedules.ScheduleScoring ~/Documents/nurse/nurse_scheduling_problem/src/scoring.jl:268\u001b[39m\n"
     ]
    },
    {
     "data": {
      "text/plain": [
       "(penalty = 216, errors = Dict{String,Any}[Dict(\"day\" => 7,\"required\" => 4,\"code\" => \"WND\",\"actual\" => 3), Dict(\"worker\" => \"babysitter_7\",\"week\" => 1,\"code\" => \"LLB\"), Dict(\"day\" => 5,\"succeeding\" => \"P\",\"worker\" => \"babysitter_9\",\"code\" => \"DSS\",\"preceding\" => \"N\"), Dict(\"worker\" => \"babysitter_10\",\"week\" => 1,\"code\" => \"LLB\"), Dict(\"worker\" => \"nurse_8\",\"week\" => 1,\"code\" => \"LLB\"), Dict(\"worker\" => \"nurse_4\",\"week\" => 1,\"code\" => \"LLB\"), Dict(\"day\" => 4,\"succeeding\" => \"N\",\"worker\" => \"nurse_3\",\"code\" => \"DSS\",\"preceding\" => \"DN\"), Dict(\"day\" => 7,\"succeeding\" => \"N\",\"worker\" => \"nurse_3\",\"code\" => \"DSS\",\"preceding\" => \"DN\"), Dict(\"worker\" => \"nurse_3\",\"week\" => 1,\"code\" => \"LLB\"), Dict(\"worker\" => \"babysitter_4\",\"week\" => 1,\"code\" => \"LLB\"), Dict(\"hours\" => 20,\"worker\" => \"nurse_5\",\"code\" => \"WUH\"), Dict(\"hours\" => 16,\"worker\" => \"nurse_3\",\"code\" => \"WOH\")])"
      ]
     },
     "execution_count": 6,
     "metadata": {},
     "output_type": "execute_result"
    }
   ],
   "source": [
    "with_logger(logger) do\n",
    "    global schedule_score = score(schedule_shifts, month_info, workers_info)\n",
    "end"
   ]
  },
  {
   "cell_type": "code",
   "execution_count": 7,
   "metadata": {},
   "outputs": [
    {
     "data": {
      "text/plain": [
       "([\"N\" \"W\" … \"W\" \"DN\"; \"U\" \"U\" … \"U\" \"U\"; … ; \"U\" \"U\" … \"U\" \"U\"; \"D\" \"N\" … \"W\" \"DN\"], (penalty = 216, errors = Dict{String,Any}[Dict(\"day\" => 7,\"required\" => 4,\"code\" => \"WND\",\"actual\" => 3), Dict(\"worker\" => \"babysitter_7\",\"week\" => 1,\"code\" => \"LLB\"), Dict(\"day\" => 5,\"succeeding\" => \"P\",\"worker\" => \"babysitter_9\",\"code\" => \"DSS\",\"preceding\" => \"N\"), Dict(\"worker\" => \"babysitter_10\",\"week\" => 1,\"code\" => \"LLB\"), Dict(\"worker\" => \"nurse_8\",\"week\" => 1,\"code\" => \"LLB\"), Dict(\"worker\" => \"nurse_4\",\"week\" => 1,\"code\" => \"LLB\"), Dict(\"day\" => 4,\"succeeding\" => \"N\",\"worker\" => \"nurse_3\",\"code\" => \"DSS\",\"preceding\" => \"DN\"), Dict(\"day\" => 7,\"succeeding\" => \"N\",\"worker\" => \"nurse_3\",\"code\" => \"DSS\",\"preceding\" => \"DN\"), Dict(\"worker\" => \"nurse_3\",\"week\" => 1,\"code\" => \"LLB\"), Dict(\"worker\" => \"babysitter_4\",\"week\" => 1,\"code\" => \"LLB\"), Dict(\"hours\" => 20,\"worker\" => \"nurse_5\",\"code\" => \"WUH\"), Dict(\"hours\" => 16,\"worker\" => \"nurse_3\",\"code\" => \"WOH\")]))"
      ]
     },
     "execution_count": 7,
     "metadata": {},
     "output_type": "execute_result"
    }
   ],
   "source": [
    "ITERATION_NUM = 1000\n",
    "best_shifts = (shifts, schedule_score)"
   ]
  },
  {
   "cell_type": "code",
   "execution_count": null,
   "metadata": {},
   "outputs": [],
   "source": [
    "iter_best = best_shifts\n",
    "no_improvement_iters = 0\n",
    "\n",
    "for i in 1:ITERATION_NUM\n",
    "    nbhd = Neighborhood(iter_best[1])\n",
    "    nghd_scores = map(shifts -> score((workers, shifts), month_info, workers_info), nbhd)\n",
    "    show(nghd_scores)\n",
    "    iter_best_idx = findfirst(nghd_scores .== minimum(nghd_scores))\n",
    "    iter_best = (nbhd[iter_best_idx], nghd_scores[iter_best_idx])\n",
    "    \n",
    "    no_improvement_iters += 1\n",
    "    \n",
    "    if best_shifts[2] > iter_best[2]\n",
    "        println(\"Improved from $(best_shifts[2]) to $(iter_best[2]) in iteration '$(i)'\")\n",
    "        global no_improvement_iters = 0\n",
    "        global best_shifts = iter_best\n",
    "    end\n",
    "    if no_improvement_iters > 20\n",
    "        println(\"Local minimum! Stopping in iteration '$(i)'\")\n",
    "        break\n",
    "    end\n",
    "end"
   ]
  },
  {
   "cell_type": "code",
   "execution_count": null,
   "metadata": {},
   "outputs": [],
   "source": [
    "with_logger(logger) do\n",
    "    penalty, _ = score((workers, best_shifts[1]), month_info, workers_info)\n",
    "end"
   ]
  }
 ],
 "metadata": {
  "kernelspec": {
   "display_name": "Julia 1.5.0",
   "language": "julia",
   "name": "julia-1.5"
  },
  "language_info": {
   "file_extension": ".jl",
   "mimetype": "application/julia",
   "name": "julia",
   "version": "1.5.0"
  }
 },
 "nbformat": 4,
 "nbformat_minor": 1
}
