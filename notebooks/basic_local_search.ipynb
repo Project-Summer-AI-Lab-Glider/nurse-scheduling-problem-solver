{
 "cells": [
  {
   "cell_type": "code",
   "execution_count": 1,
   "metadata": {},
   "outputs": [
    {
     "data": {
      "text/plain": [
       "ConsoleLogger(IJulia.IJuliaStdio{Base.PipeEndpoint}(IOContext(Base.PipeEndpoint(RawFD(0x00000030) open, 0 bytes waiting))), Debug, Logging.default_metafmt, true, 0, Dict{Any,Int64}())"
      ]
     },
     "execution_count": 1,
     "metadata": {},
     "output_type": "execute_result"
    }
   ],
   "source": [
    "include(\"../src/NursesScheduling.jl\")\n",
    "using .NurseSchedules\n",
    "using Logging\n",
    "using JSON\n",
    "\n",
    "logger = ConsoleLogger(stderr, Logging.Debug)"
   ]
  },
  {
   "cell_type": "code",
   "execution_count": 2,
   "metadata": {},
   "outputs": [
    {
     "data": {
      "text/plain": [
       "Dict{String,Any} with 2 entries:\n",
       "  \"time\" => Dict{String,Any}(\"nurse_2\"=>\"FULL\",\"babysitter_1\"=>\"FULL\",\"babysitt…\n",
       "  \"type\" => Dict{String,Any}(\"nurse_2\"=>\"NURSE\",\"babysitter_1\"=>\"OTHER\",\"babysi…"
      ]
     },
     "execution_count": 2,
     "metadata": {},
     "output_type": "execute_result"
    }
   ],
   "source": [
    "nurse_schedule = Schedule(\"../schedules/schedule_2016_august_medium.json\")\n",
    "\n",
    "schedule_shifts = get_shifts(nurse_schedule)\n",
    "workers, shifts = schedule_shifts\n",
    "month_info = get_month_info(nurse_schedule)\n",
    "workers_info = get_workers_info(nurse_schedule)"
   ]
  },
  {
   "cell_type": "code",
   "execution_count": 3,
   "metadata": {},
   "outputs": [
    {
     "name": "stderr",
     "output_type": "stream",
     "text": [
      "\u001b[34m\u001b[1m┌ \u001b[22m\u001b[39m\u001b[34m\u001b[1mDebug: \u001b[22m\u001b[39mNeighbors number from addition: 252\n",
      "\u001b[34m\u001b[1m└ \u001b[22m\u001b[39m\u001b[90m@ Main.NurseSchedules.NeighborhoodGen ~/Documents/nurse/nurse_scheduling_problem/src/neighborhood.jl:15\u001b[39m\n",
      "\u001b[34m\u001b[1m┌ \u001b[22m\u001b[39m\u001b[34m\u001b[1mDebug: \u001b[22m\u001b[39mNeighbors number from deletion: 49\n",
      "\u001b[34m\u001b[1m└ \u001b[22m\u001b[39m\u001b[90m@ Main.NurseSchedules.NeighborhoodGen ~/Documents/nurse/nurse_scheduling_problem/src/neighborhood.jl:17\u001b[39m\n",
      "\u001b[34m\u001b[1m┌ \u001b[22m\u001b[39m\u001b[34m\u001b[1mDebug: \u001b[22m\u001b[39mNeighbors number from swap: 116\n",
      "\u001b[34m\u001b[1m└ \u001b[22m\u001b[39m\u001b[90m@ Main.NurseSchedules.NeighborhoodGen ~/Documents/nurse/nurse_scheduling_problem/src/neighborhood.jl:29\u001b[39m\n"
     ]
    },
    {
     "data": {
      "text/plain": [
       "417"
      ]
     },
     "execution_count": 3,
     "metadata": {},
     "output_type": "execute_result"
    }
   ],
   "source": [
    "with_logger(logger) do\n",
    "    get_max_nbhd_size(nurse_schedule)\n",
    "end"
   ]
  },
  {
   "cell_type": "code",
   "execution_count": 4,
   "metadata": {},
   "outputs": [
    {
     "data": {
      "text/plain": [
       "417"
      ]
     },
     "execution_count": 4,
     "metadata": {},
     "output_type": "execute_result"
    }
   ],
   "source": [
    "nbhd = Neighborhood(shifts)\n",
    "length(nbhd)"
   ]
  },
  {
   "cell_type": "code",
   "execution_count": 5,
   "metadata": {},
   "outputs": [
    {
     "name": "stderr",
     "output_type": "stream",
     "text": [
      "\u001b[34m\u001b[1m┌ \u001b[22m\u001b[39m\u001b[34m\u001b[1mDebug: \u001b[22m\u001b[39mThere is a lack of staff on day '7'.\n",
      "\u001b[34m\u001b[1m│ \u001b[22m\u001b[39mExpected '4', got '3' in the day.\n",
      "\u001b[34m\u001b[1m└ \u001b[22m\u001b[39m\u001b[90m@ Main.NurseSchedules.ScheduleScoring ~/Documents/nurse/nurse_scheduling_problem/src/scoring.jl:134\u001b[39m\n",
      "\u001b[34m\u001b[1m┌ \u001b[22m\u001b[39m\u001b[34m\u001b[1mDebug: \u001b[22m\u001b[39mLacking workers total penalty: 30\n",
      "\u001b[34m\u001b[1m└ \u001b[22m\u001b[39m\u001b[90m@ Main.NurseSchedules.ScheduleScoring ~/Documents/nurse/nurse_scheduling_problem/src/scoring.jl:75\u001b[39m\n",
      "\u001b[34m\u001b[1m┌ \u001b[22m\u001b[39m\u001b[34m\u001b[1mDebug: \u001b[22m\u001b[39mThe worker 'babysitter_7' does not have a long break in week: '1'\n",
      "\u001b[34m\u001b[1m└ \u001b[22m\u001b[39m\u001b[90m@ Main.NurseSchedules.ScheduleScoring ~/Documents/nurse/nurse_scheduling_problem/src/scoring.jl:222\u001b[39m\n",
      "\u001b[34m\u001b[1m┌ \u001b[22m\u001b[39m\u001b[34m\u001b[1mDebug: \u001b[22m\u001b[39mThe worker 'babysitter_9' has a disallowed shift sequence on day '5': N -> P\n",
      "\u001b[34m\u001b[1m└ \u001b[22m\u001b[39m\u001b[90m@ Main.NurseSchedules.ScheduleScoring ~/Documents/nurse/nurse_scheduling_problem/src/scoring.jl:195\u001b[39m\n",
      "\u001b[34m\u001b[1m┌ \u001b[22m\u001b[39m\u001b[34m\u001b[1mDebug: \u001b[22m\u001b[39mThe worker 'babysitter_10' does not have a long break in week: '1'\n",
      "\u001b[34m\u001b[1m└ \u001b[22m\u001b[39m\u001b[90m@ Main.NurseSchedules.ScheduleScoring ~/Documents/nurse/nurse_scheduling_problem/src/scoring.jl:222\u001b[39m\n",
      "\u001b[34m\u001b[1m┌ \u001b[22m\u001b[39m\u001b[34m\u001b[1mDebug: \u001b[22m\u001b[39mThe worker 'nurse_8' does not have a long break in week: '1'\n",
      "\u001b[34m\u001b[1m└ \u001b[22m\u001b[39m\u001b[90m@ Main.NurseSchedules.ScheduleScoring ~/Documents/nurse/nurse_scheduling_problem/src/scoring.jl:222\u001b[39m\n",
      "\u001b[34m\u001b[1m┌ \u001b[22m\u001b[39m\u001b[34m\u001b[1mDebug: \u001b[22m\u001b[39mThe worker 'nurse_4' does not have a long break in week: '1'\n",
      "\u001b[34m\u001b[1m└ \u001b[22m\u001b[39m\u001b[90m@ Main.NurseSchedules.ScheduleScoring ~/Documents/nurse/nurse_scheduling_problem/src/scoring.jl:222\u001b[39m\n",
      "\u001b[34m\u001b[1m┌ \u001b[22m\u001b[39m\u001b[34m\u001b[1mDebug: \u001b[22m\u001b[39mThe worker 'nurse_3' has a disallowed shift sequence on day '4': DN -> N\n",
      "\u001b[34m\u001b[1m└ \u001b[22m\u001b[39m\u001b[90m@ Main.NurseSchedules.ScheduleScoring ~/Documents/nurse/nurse_scheduling_problem/src/scoring.jl:195\u001b[39m\n",
      "\u001b[34m\u001b[1m┌ \u001b[22m\u001b[39m\u001b[34m\u001b[1mDebug: \u001b[22m\u001b[39mThe worker 'nurse_3' has a disallowed shift sequence on day '7': DN -> N\n",
      "\u001b[34m\u001b[1m└ \u001b[22m\u001b[39m\u001b[90m@ Main.NurseSchedules.ScheduleScoring ~/Documents/nurse/nurse_scheduling_problem/src/scoring.jl:195\u001b[39m\n",
      "\u001b[34m\u001b[1m┌ \u001b[22m\u001b[39m\u001b[34m\u001b[1mDebug: \u001b[22m\u001b[39mThe worker 'nurse_3' does not have a long break in week: '1'\n",
      "\u001b[34m\u001b[1m└ \u001b[22m\u001b[39m\u001b[90m@ Main.NurseSchedules.ScheduleScoring ~/Documents/nurse/nurse_scheduling_problem/src/scoring.jl:222\u001b[39m\n",
      "\u001b[34m\u001b[1m┌ \u001b[22m\u001b[39m\u001b[34m\u001b[1mDebug: \u001b[22m\u001b[39mThe worker 'babysitter_4' does not have a long break in week: '1'\n",
      "\u001b[34m\u001b[1m└ \u001b[22m\u001b[39m\u001b[90m@ Main.NurseSchedules.ScheduleScoring ~/Documents/nurse/nurse_scheduling_problem/src/scoring.jl:222\u001b[39m\n",
      "\u001b[34m\u001b[1m┌ \u001b[22m\u001b[39m\u001b[34m\u001b[1mDebug: \u001b[22m\u001b[39mThe worker 'nurse_5' has too much undertime: '20'\n",
      "\u001b[34m\u001b[1m└ \u001b[22m\u001b[39m\u001b[90m@ Main.NurseSchedules.ScheduleScoring ~/Documents/nurse/nurse_scheduling_problem/src/scoring.jl:268\u001b[39m\n",
      "\u001b[34m\u001b[1m┌ \u001b[22m\u001b[39m\u001b[34m\u001b[1mDebug: \u001b[22m\u001b[39mThe worker 'nurse_3' has too much overtime: '56'\n",
      "\u001b[34m\u001b[1m└ \u001b[22m\u001b[39m\u001b[90m@ Main.NurseSchedules.ScheduleScoring ~/Documents/nurse/nurse_scheduling_problem/src/scoring.jl:256\u001b[39m\n",
      "\u001b[34m\u001b[1m┌ \u001b[22m\u001b[39m\u001b[34m\u001b[1mDebug: \u001b[22m\u001b[39mTotal penalty from undertime and overtime: 36\n",
      "\u001b[34m\u001b[1m└ \u001b[22m\u001b[39m\u001b[90m@ Main.NurseSchedules.ScheduleScoring ~/Documents/nurse/nurse_scheduling_problem/src/scoring.jl:276\u001b[39m\n"
     ]
    },
    {
     "data": {
      "text/plain": [
       "216"
      ]
     },
     "execution_count": 5,
     "metadata": {},
     "output_type": "execute_result"
    }
   ],
   "source": [
    "with_logger(logger) do\n",
    "    global schedule_score = score(schedule_shifts, month_info, workers_info)\n",
    "end"
   ]
  },
  {
   "cell_type": "code",
   "execution_count": 6,
   "metadata": {},
   "outputs": [
    {
     "data": {
      "text/plain": [
       "([\"N\" \"W\" … \"W\" \"DN\"; \"U\" \"U\" … \"U\" \"U\"; … ; \"U\" \"U\" … \"U\" \"U\"; \"D\" \"N\" … \"W\" \"DN\"], 216)"
      ]
     },
     "execution_count": 6,
     "metadata": {},
     "output_type": "execute_result"
    }
   ],
   "source": [
    "ITERATION_NUM = 1000\n",
    "best_shifts = (shifts, schedule_score)"
   ]
  },
  {
   "cell_type": "code",
   "execution_count": 7,
   "metadata": {},
   "outputs": [
    {
     "name": "stdout",
     "output_type": "stream",
     "text": [
      "Improved from 216 to 166 in iteration '1'\n",
      "Improved from 166 to 124 in iteration '2'\n",
      "Improved from 124 to 94 in iteration '3'\n",
      "Improved from 94 to 74 in iteration '4'\n",
      "Improved from 74 to 54 in iteration '5'\n",
      "Improved from 54 to 34 in iteration '6'\n",
      "Improved from 34 to 20 in iteration '7'\n",
      "Improved from 20 to 10 in iteration '8'\n",
      "Improved from 10 to 0 in iteration '11'\n",
      "Local minimum! Stopping in iteration '32'\n"
     ]
    }
   ],
   "source": [
    "iter_best = best_shifts\n",
    "no_improvement_iters = 0\n",
    "\n",
    "for i in 1:ITERATION_NUM\n",
    "    nbhd = Neighborhood(iter_best[1])\n",
    "    nghd_scores = map(shifts -> score((workers, shifts), month_info, workers_info), nbhd)\n",
    "    iter_best_idx = findfirst(nghd_scores .== minimum(nghd_scores))\n",
    "    iter_best = (nbhd[iter_best_idx], nghd_scores[iter_best_idx])\n",
    "    \n",
    "    no_improvement_iters += 1\n",
    "    \n",
    "    if best_shifts[2] > iter_best[2]\n",
    "        println(\"Improved from $(best_shifts[2]) to $(iter_best[2]) in iteration '$(i)'\")\n",
    "        global no_improvement_iters = 0\n",
    "        global best_shifts = iter_best\n",
    "    end\n",
    "    if no_improvement_iters > 20\n",
    "        println(\"Local minimum! Stopping in iteration '$(i)'\")\n",
    "        break\n",
    "    end\n",
    "end"
   ]
  },
  {
   "cell_type": "code",
   "execution_count": 9,
   "metadata": {},
   "outputs": [
    {
     "name": "stdout",
     "output_type": "stream",
     "text": [
      "[]\n"
     ]
    },
    {
     "data": {
      "text/plain": [
       "\"Score improved: '216' -> '0'\""
      ]
     },
     "execution_count": 9,
     "metadata": {},
     "output_type": "execute_result"
    }
   ],
   "source": [
    "penalty_improved, errors = score((workers, best_shifts[1]), month_info, workers_info, true)\n",
    "JSON.print(errors, 4)\n",
    "\"Score improved: '$(schedule_score)' -> '$(penalty_improved)'\""
   ]
  }
 ],
 "metadata": {
  "kernelspec": {
   "display_name": "Julia 1.5.0",
   "language": "julia",
   "name": "julia-1.5"
  },
  "language_info": {
   "file_extension": ".jl",
   "mimetype": "application/julia",
   "name": "julia",
   "version": "1.5.0"
  }
 },
 "nbformat": 4,
 "nbformat_minor": 1
}
